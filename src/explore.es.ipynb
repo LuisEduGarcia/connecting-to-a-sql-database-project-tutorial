{
 "cells": [
  {
   "cell_type": "markdown",
   "metadata": {},
   "source": [
    "# Explora aquí\n",
    "\n",
    "Se recomienda utilizar este cuaderno con fines de exploración.\n",
    "\n",
    "Por ejemplo:\n",
    "\n",
    "1. Puede importar el CSV generado por Python a su computadora portátil y explorarlo.\n",
    "2. Puede conectarse a su base de datos usando `pandas.read_sql` desde este cuaderno y explorarla."
   ]
  },
  {
   "cell_type": "markdown",
   "metadata": {},
   "source": [
    "Al final he tenido que usar SQLite para el ejercicio ya que hay un monton de errores con los entornos virtuales  y la ejecucion de librerias \"dotenv\" y \"sqlalchemy\""
   ]
  },
  {
   "cell_type": "code",
   "execution_count": 16,
   "metadata": {},
   "outputs": [],
   "source": [
    "import sqlite3\n",
    "import pandas as pd\n",
    "\n",
    "# Conectar a la base de datos (se crea si no existe)\n",
    "conn = sqlite3.connect('sql_project.db')\n",
    "cursor = conn.cursor()"
   ]
  },
  {
   "cell_type": "code",
   "execution_count": 17,
   "metadata": {},
   "outputs": [
    {
     "data": {
      "text/plain": [
       "<sqlite3.Cursor at 0xffff660caec0>"
      ]
     },
     "execution_count": 17,
     "metadata": {},
     "output_type": "execute_result"
    }
   ],
   "source": [
    "# Leer y ejecutar el archivo create.sql\n",
    "with open('/workspaces/connecting-to-a-sql-database-project-tutorial/src/sql/create.sql', 'r') as f:\n",
    "    create_sql = f.read()\n",
    "cursor.executescript(create_sql)\n"
   ]
  },
  {
   "cell_type": "code",
   "execution_count": 18,
   "metadata": {},
   "outputs": [],
   "source": [
    "# Leer y ejecutar el archivo insert.sql\n",
    "with open('/workspaces/connecting-to-a-sql-database-project-tutorial/src/sql/insert.sql', 'r') as f:\n",
    "    insert_sql = f.read()\n",
    "cursor.executescript(insert_sql)\n",
    "# Confirmar los cambios\n",
    "conn.commit()"
   ]
  },
  {
   "cell_type": "code",
   "execution_count": 20,
   "metadata": {},
   "outputs": [
    {
     "name": "stdout",
     "output_type": "stream",
     "text": [
      "   book_id                                              title  total_pages  \\\n",
      "0        1        Lean Software Development: An Agile Toolkit          240   \n",
      "1        2                  Facing the Intelligence Explosion           91   \n",
      "2        3                                    Scala in Action          419   \n",
      "3        4  Patterns of Software: Tales from the Software ...          256   \n",
      "4        5                                    Anatomy Of LISP          446   \n",
      "5        6               Computing machinery and intelligence           24   \n",
      "6        7                       XML: Visual QuickStart Guide          269   \n",
      "7        8                                       SQL Cookbook          595   \n",
      "8        9  The Apollo Guidance Computer: Architecture And...          439   \n",
      "9       10  Minds and Computers: An Introduction to the Ph...          222   \n",
      "\n",
      "   rating           isbn published_date  publisher_id  \n",
      "0    4.17  9780320000000     2003-05-18             5  \n",
      "1    3.87           None     2013-02-01             7  \n",
      "2    3.74  9781940000000     2013-04-10             1  \n",
      "3    3.84  9780200000000     1996-08-15             1  \n",
      "4    4.43  9780070000000     1978-01-01             3  \n",
      "5    4.17           None     2009-03-22             4  \n",
      "6    3.66  9780320000000     2009-01-01             5  \n",
      "7    3.95  9780600000000     2005-12-01             7  \n",
      "8    4.29  9781440000000     2010-07-01             6  \n",
      "9    3.54  9780750000000     2007-02-13             7  \n"
     ]
    }
   ],
   "source": [
    "\n",
    "# Leer la tabla books y mostrarla con Pandas\n",
    "try:\n",
    "    df = pd.read_sql_query(\"SELECT * FROM books\", conn)\n",
    "    print(df)\n",
    "except Exception as e:\n",
    "    print(f\"Error al leer la tabla: {e}\")\n",
    "\n",
    "# Cerrar la conexión\n",
    "conn.close()"
   ]
  },
  {
   "cell_type": "code",
   "execution_count": 5,
   "metadata": {},
   "outputs": [
    {
     "data": {
      "text/plain": [
       "'\\n# Ejemplo de lectura de la base de datos SQL desde aquí\\nimport os\\n#from dotenv import load_dotenv\\nfrom sqlalchemy import create_engine\\nimport pandas as pd\\n\\n# cargar las variables del archivo .env\\n#load_dotenv()\\n\\nconnection_string = f\"postgresql://{os.getenv(\\'gitpod\\')}:{os.getenv(\\'postgres\\')}@{os.getenv(\\'localhost\\')}/{os.getenv(\\'sample-db\\')}\"\\nengine = create_engine(connection_string).execution_options(autocommit=True)\\nengine.connect()\\n\\n# dataframe = pd.read_sql(\"Select * from books;\", engine)\\n# print(dataframe.describe())\\n'"
      ]
     },
     "execution_count": 5,
     "metadata": {},
     "output_type": "execute_result"
    }
   ],
   "source": [
    "'''\n",
    "# Ejemplo de lectura de la base de datos SQL desde aquí\n",
    "import os\n",
    "#from dotenv import load_dotenv\n",
    "from sqlalchemy import create_engine\n",
    "import pandas as pd\n",
    "\n",
    "# cargar las variables del archivo .env\n",
    "#load_dotenv()\n",
    "\n",
    "connection_string = f\"postgresql://{os.getenv('gitpod')}:{os.getenv('postgres')}@{os.getenv('localhost')}/{os.getenv('sample-db')}\"\n",
    "engine = create_engine(connection_string).execution_options(autocommit=True)\n",
    "engine.connect()\n",
    "\n",
    "# dataframe = pd.read_sql(\"Select * from books;\", engine)\n",
    "# print(dataframe.describe())\n",
    "'''"
   ]
  }
 ],
 "metadata": {
  "kernelspec": {
   "display_name": "Python 3.8.13 64-bit ('3.8.13')",
   "language": "python",
   "name": "python3"
  },
  "language_info": {
   "codemirror_mode": {
    "name": "ipython",
    "version": 3
   },
   "file_extension": ".py",
   "mimetype": "text/x-python",
   "name": "python",
   "nbconvert_exporter": "python",
   "pygments_lexer": "ipython3",
   "version": "3.10.12"
  },
  "orig_nbformat": 4,
  "vscode": {
   "interpreter": {
    "hash": "110cc1dee26208153f2972f08a2ad52b6a56238dc66d48e87fb757ef2996db56"
   }
  }
 },
 "nbformat": 4,
 "nbformat_minor": 2
}
